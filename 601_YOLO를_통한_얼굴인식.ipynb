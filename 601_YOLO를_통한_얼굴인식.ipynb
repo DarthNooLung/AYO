{
 "cells": [
  {
   "cell_type": "code",
   "execution_count": null,
   "metadata": {},
   "outputs": [],
   "source": [
    "'''\n",
    "Yolo란 무엇인가?\n",
    "    - https://mickael-k.tistory.com/m/27?category=798521\n",
    "Python으로 OpenCV를 사용하여 YOLO Object detection\n",
    "    - https://bong-sik.tistory.com/16\n",
    "'''"
   ]
  }
 ],
 "metadata": {
  "kernelspec": {
   "display_name": "Python 3",
   "language": "python",
   "name": "python3"
  },
  "language_info": {
   "codemirror_mode": {
    "name": "ipython",
    "version": 3
   },
   "file_extension": ".py",
   "mimetype": "text/x-python",
   "name": "python",
   "nbconvert_exporter": "python",
   "pygments_lexer": "ipython3",
   "version": "3.7.5"
  }
 },
 "nbformat": 4,
 "nbformat_minor": 2
}
