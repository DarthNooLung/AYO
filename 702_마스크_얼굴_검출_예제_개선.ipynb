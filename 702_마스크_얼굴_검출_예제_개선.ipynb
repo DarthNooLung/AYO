{
 "cells": [
  {
   "cell_type": "code",
   "execution_count": null,
   "metadata": {},
   "outputs": [],
   "source": [
    "'''\n",
    "마스크 착용하면 못 찾음 실패\n",
    "'''"
   ]
  },
  {
   "cell_type": "code",
   "execution_count": 1,
   "metadata": {},
   "outputs": [],
   "source": [
    "from tensorflow.keras.applications.mobilenet_v2 import preprocess_input\n",
    "from tensorflow.keras.models import load_model\n",
    "import numpy as np\n",
    "import cv2\n",
    "import winsound"
   ]
  },
  {
   "cell_type": "code",
   "execution_count": 2,
   "metadata": {},
   "outputs": [],
   "source": [
    "model_path = './98_LearningData/01_Example/'"
   ]
  },
  {
   "cell_type": "code",
   "execution_count": 3,
   "metadata": {},
   "outputs": [],
   "source": [
    "face_cascades = cv2.CascadeClassifier('./98_LearningData/00_haarcascades/haarcascade_frontalface_default.xml')\n",
    "eye_cascades = cv2.CascadeClassifier('./98_LearningData/00_haarcascades/haarcascade_lefteye_2splits.xml')"
   ]
  },
  {
   "cell_type": "code",
   "execution_count": 7,
   "metadata": {},
   "outputs": [],
   "source": [
    "def face_detector(img, size = 0.5):\n",
    "    #이미지를 흑백으로 변경\n",
    "    grayscale_img = cv2.cvtColor(img, cv2.COLOR_BGR2GRAY)\n",
    "    \n",
    "    #얼굴 검출\n",
    "    faces = face_cascades.detectMultiScale(grayscale_img, scaleFactor=1.1, minNeighbors=5, minSize=(100,100), flags=cv2.CASCADE_SCALE_IMAGE)\n",
    "    \n",
    "    if faces is():\n",
    "        return img,[], 0\n",
    "    \n",
    "    iFaceCnt = 0\n",
    "    for(x,y,w,h) in faces:\n",
    "        #눈을 추려내기 위해서 이미지 크롭\n",
    "        img_trim = img[y:y+h, x:x+w]\n",
    "        \n",
    "        #눈 추려내기\n",
    "        eye_list = eye_cascades.detectMultiScale(img_trim,scaleFactor = 1.15, minNeighbors=1,minSize=(10,10))\n",
    "        \n",
    "        #눈이 있으면서 2개 이상)\n",
    "        if len(eye_list) >= 2:\n",
    "            #얼굴에 네모 표기하기\n",
    "            cv2.rectangle(img, (x,y),(x+w,y+h),(0,255,255),2)\n",
    "\n",
    "            #눈에 네모 표기 하기(눈에표기하면 인식 안됨 네모도 얼굴의 일부로 인식)\n",
    "            #for eye in eye_list:\n",
    "                #eyeX,eyeY,eyeW,eyeH = eye\n",
    "                #cv2.rectangle(img, (eyeX + x, eyeY + y), (eyeX + eyeW + x, eyeY + eyeH + y), (0, 255, 0), thickness=8)\n",
    "\n",
    "            iFaceCnt += 1\n",
    "            roi = img[y:y+h, x:x+w]\n",
    "            roi = cv2.resize(roi, (200,200))\n",
    "        else:\n",
    "            return img,[], 0\n",
    "    return img, roi, iFaceCnt   #검출된 좌표에 사각 박스 그리고(img), 검출된 부위를 잘라(roi) 전달"
   ]
  },
  {
   "cell_type": "code",
   "execution_count": 11,
   "metadata": {},
   "outputs": [],
   "source": [
    "# model : 마스크 검출 모델\n",
    "model = load_model(model_path + 'mask_detector.model')"
   ]
  },
  {
   "cell_type": "code",
   "execution_count": 14,
   "metadata": {},
   "outputs": [
    {
     "name": "stdout",
     "output_type": "stream",
     "text": [
      "width :640, height : 480\n"
     ]
    }
   ],
   "source": [
    "#카메라 열기 \n",
    "cap = cv2.VideoCapture(0)\n",
    "print('width :%d, height : %d' % (cap.get(3), cap.get(4)))\n",
    "while True:\n",
    "    #카메라로 부터 사진 한장 읽기 \n",
    "    ret, frame = cap.read()\n",
    "    # 얼굴 검출 시도 \n",
    "    image, face, iFaceCnt = face_detector(frame)\n",
    "    try:        \n",
    "        # 추출한 얼굴영역을 전처리\n",
    "        face_input = cv2.resize(face, dsize=(224, 224))\n",
    "        face_input = cv2.cvtColor(face_input, cv2.COLOR_BGR2RGB)\n",
    "        face_input = preprocess_input(face_input)\n",
    "        face_input = np.expand_dims(face_input, axis=0)\n",
    "        \n",
    "        # 마스크 검출 모델로 결과값 return\n",
    "        mask, nomask = model.predict(face_input).squeeze()\n",
    "\n",
    "        # 마스크를 꼈는지 안겼는지에 따라 라벨링해줌\n",
    "        if mask > nomask:\n",
    "            color = (0, 255, 0)\n",
    "            label = 'Mask %d%%' % (mask * 100)\n",
    "        else:\n",
    "            color = (0, 0, 255)\n",
    "            label = 'No Mask %d%%' % (nomask * 100)\n",
    "            frequency = 2500  # Set Frequency To 2500 Hertz\n",
    "            duration = 1000  # Set Duration To 1000 ms == 1 second\n",
    "         \n",
    "        # 화면에 얼굴부분과 마스크 유무를 출력해해줌\n",
    "        #cv2.rectangle(image, pt1=(x1, y1), pt2=(x2, y2), thickness=2, color=color, lineType=cv2.LINE_AA)\n",
    "        #cv2.putText(image, text=label, org=(x1, y1 - 10), fontFace=cv2.FONT_HERSHEY_SIMPLEX, fontScale=0.8,\n",
    "                    #color=color, thickness=2, lineType=cv2.LINE_AA)\n",
    "        \n",
    "        \n",
    "        cv2.putText(image, str(iFaceCnt) + \" Face Found \" + label, (100, 450), cv2.FONT_HERSHEY_COMPLEX, 1, (255, 0, 0), 2)    \n",
    "        cv2.imshow('Face Cropper', image)\n",
    "    except:\n",
    "        #얼굴 검출 안됨 \n",
    "        cv2.putText(image, \"Face Not Found\", (200, 450), cv2.FONT_HERSHEY_COMPLEX, 1, (255, 0, 0), 2)\n",
    "        cv2.imshow('Face Cropper', image)\n",
    "        pass\n",
    "    if cv2.waitKey(1)==13:\n",
    "        break\n",
    "cap.release()\n",
    "cv2.destroyAllWindows()"
   ]
  },
  {
   "cell_type": "code",
   "execution_count": null,
   "metadata": {},
   "outputs": [],
   "source": []
  }
 ],
 "metadata": {
  "kernelspec": {
   "display_name": "Python 3",
   "language": "python",
   "name": "python3"
  },
  "language_info": {
   "codemirror_mode": {
    "name": "ipython",
    "version": 3
   },
   "file_extension": ".py",
   "mimetype": "text/x-python",
   "name": "python",
   "nbconvert_exporter": "python",
   "pygments_lexer": "ipython3",
   "version": "3.7.5"
  }
 },
 "nbformat": 4,
 "nbformat_minor": 2
}
