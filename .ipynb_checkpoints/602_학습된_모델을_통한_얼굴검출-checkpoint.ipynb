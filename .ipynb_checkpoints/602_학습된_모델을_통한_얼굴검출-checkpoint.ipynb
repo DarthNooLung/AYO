{
 "cells": [
  {
   "cell_type": "code",
   "execution_count": 1,
   "metadata": {},
   "outputs": [
    {
     "data": {
      "text/plain": [
       "'\\n인터넷에 돌아다니는 학습된 모델을 통한 얼굴 검출\\n    - 이렇게하는 이유는 harra cascade 방식으로 할 경우 마스크를 착용하면 얼굴을 잘 못가져옴\\n'"
      ]
     },
     "execution_count": 1,
     "metadata": {},
     "output_type": "execute_result"
    }
   ],
   "source": [
    "'''\n",
    "인터넷에 돌아다니는 학습된 모델을 통한 얼굴 검출\n",
    "    - 이렇게하는 이유는 harra cascade 방식으로 할 경우 마스크를 착용하면 얼굴을 잘 못가져옴\n",
    "'''"
   ]
  },
  {
   "cell_type": "code",
   "execution_count": 2,
   "metadata": {},
   "outputs": [],
   "source": [
    "from tensorflow.keras.applications.mobilenet_v2 import preprocess_input\n",
    "from tensorflow.keras.models import load_model\n",
    "import numpy as np\n",
    "import cv2"
   ]
  },
  {
   "cell_type": "code",
   "execution_count": 3,
   "metadata": {},
   "outputs": [],
   "source": [
    "model_path = './98_LearningData/01_Example/'"
   ]
  },
  {
   "cell_type": "code",
   "execution_count": 4,
   "metadata": {},
   "outputs": [],
   "source": [
    "# facenet : 얼굴을 찾는 모델(인터넷에서 가장 많이 돌아 다니는 얼굴 찾는 모델)\n",
    "facenet = cv2.dnn.readNet(model_path + 'deploy.prototxt', model_path + 'res10_300x300_ssd_iter_140000.caffemodel')\n",
    "#눈 찾는 모델(추가로 체크하는 이유는 얼굴을 찾고 눈이 2개 있을경우가 얼굴에 대한 정확도가 높기 때문)\n",
    "eye_cascades = cv2.CascadeClassifier('./98_LearningData/00_haarcascades/haarcascade_lefteye_2splits.xml')"
   ]
  },
  {
   "cell_type": "code",
   "execution_count": null,
   "metadata": {},
   "outputs": [],
   "source": [
    "# 실시간 웹캠 읽기\n",
    "cap = cv2.VideoCapture(0)\n",
    "\n",
    "#사람 수 구하는 부분\n",
    "i = 0\n",
    "\n",
    "while cap.isOpened():\n",
    "    ret, img = cap.read()\n",
    "    \n",
    "    if not ret:\n",
    "        break\n",
    "    \n",
    "    #화면 반전 처리\n",
    "    img = cv2.flip(img,1,1)\n",
    "    \n",
    "    try:\n",
    "        # 이미지의 높이와 너비 추출\n",
    "        h, w = img.shape[:2]\n",
    "\n",
    "        # [이해하고 주석 달아야 함]이미지 전처리\n",
    "        # ref. https://www.pyimagesearch.com/2017/11/06/deep-learning-opencvs-blobfromimage-works/\n",
    "        blob = cv2.dnn.blobFromImage(img, scalefactor=1., size=(300, 300), mean=(104., 177., 123.))\n",
    "\n",
    "        # [이해하고 주석 달아야 함]facenet의 input으로 blob을 설정\n",
    "        facenet.setInput(blob)\n",
    "        # [이해하고 주석 달아야 함]facenet 결과 추론, 얼굴 추출 결과가 dets의 저장\n",
    "        dets = facenet.forward()\n",
    "\n",
    "        #화면에 출력하기 위해 현재의 이미지 값을 복사함(기존 이미지는 두고 작업 후 결과물로 뿌려주기 위함)\n",
    "        result_img = img.copy()\n",
    "\n",
    "        # 마스크를 찾용했는지 확인\n",
    "        for i in range(dets.shape[2]):\n",
    "            \n",
    "            # [이해하고 주석 달아야 함]검출한 결과가 신뢰도\n",
    "            confidence = dets[0, 0, i, 2]\n",
    "            \n",
    "            # [이해하고 주석 달아야 함]신뢰도를 0.5로 임계치 지정\n",
    "            if confidence < 0.5:\n",
    "                continue\n",
    "\n",
    "            # [이해하고 주석 달아야 함]바운딩 박스를 구함\n",
    "            x1 = int(dets[0, 0, i, 3] * w)\n",
    "            y1 = int(dets[0, 0, i, 4] * h)\n",
    "            x2 = int(dets[0, 0, i, 5] * w)\n",
    "            y2 = int(dets[0, 0, i, 6] * h)\n",
    "\n",
    "            # 이미지에서 얼굴영역 추출\n",
    "            face = result_img[y1:y2, x1:x2]\n",
    "            \n",
    "            #눈 추려내기(추가로 체크하는 이유는 얼굴을 찾고 눈이 2개 있을경우가 얼굴에 대한 정확도가 높기 때문)\n",
    "            eye_list = eye_cascades.detectMultiScale(face, scaleFactor = 1.15, minNeighbors=1,minSize=(10,10))\n",
    "            \n",
    "            #눈이 있으면서 2개 이상이어야 얼굴로 인정\n",
    "            if len(eye_list) >= 2:\n",
    "                # 테두리 색 지정\n",
    "                color = (0, 255, 0)\n",
    "                \n",
    "                # 마스킹 주석\n",
    "                label = \"Face\"\n",
    "                \n",
    "                # 화면에 얼굴부분에 네모 표기 하기 위함\n",
    "                cv2.rectangle(result_img, pt1=(x1, y1), pt2=(x2, y2), thickness=2, color=color, lineType=cv2.LINE_AA)\n",
    "                \n",
    "                # 화면에 설명을 달기 위함\n",
    "                cv2.putText(result_img, text=label, org=(x1, y1 - 10), fontFace=cv2.FONT_HERSHEY_SIMPLEX, fontScale=0.8, color=color, thickness=2, lineType=cv2.LINE_AA)\n",
    "    except:\n",
    "        pass\n",
    "    \n",
    "    cv2.imshow('img',result_img)\n",
    "\n",
    "    if cv2.waitKey(1)==13:\n",
    "        break\n",
    "cap.release()\n",
    "cv2.destroyAllWindows()"
   ]
  },
  {
   "cell_type": "code",
   "execution_count": null,
   "metadata": {},
   "outputs": [],
   "source": []
  }
 ],
 "metadata": {
  "kernelspec": {
   "display_name": "Python 3",
   "language": "python",
   "name": "python3"
  },
  "language_info": {
   "codemirror_mode": {
    "name": "ipython",
    "version": 3
   },
   "file_extension": ".py",
   "mimetype": "text/x-python",
   "name": "python",
   "nbconvert_exporter": "python",
   "pygments_lexer": "ipython3",
   "version": "3.7.5"
  }
 },
 "nbformat": 4,
 "nbformat_minor": 2
}
